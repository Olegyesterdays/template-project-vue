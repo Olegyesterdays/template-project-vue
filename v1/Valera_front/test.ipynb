{
 "cells": [
  {
   "cell_type": "code",
   "execution_count": 2,
   "metadata": {},
   "outputs": [
    {
     "name": "stdout",
     "output_type": "stream",
     "text": [
      "Python version: 3.8.10\n",
      "баграт ЛОХ!!!\n",
      "System: Linux\n",
      "Release: 6.2.0-39-generic\n",
      "Machine: x86_64\n",
      "Processor: x86_64\n",
      "Current date and time: 2023-12-28 13:05:41.680826\n"
     ]
    }
   ],
   "source": [
    "import platform\n",
    "import datetime\n",
    "\n",
    "print(\"Python version:\", platform.python_version())\n",
    "print(\"баграт ЛОХ!!!\")\n",
    "\n",
    "print(\"System:\", platform.system())\n",
    "print(\"Release:\", platform.release())\n",
    "print(\"Machine:\", platform.machine())\n",
    "print(\"Processor:\", platform.processor())\n",
    "\n",
    "print(\"Current date and time:\", datetime.datetime.now())\n"
   ]
  }
 ],
 "metadata": {
  "kernelspec": {
   "display_name": "Python 3 (ipykernel)",
   "language": "python",
   "name": "python3"
  }
 },
 "nbformat": 4,
 "nbformat_minor": 2
}
